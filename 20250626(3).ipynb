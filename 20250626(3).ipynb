{
  "nbformat": 4,
  "nbformat_minor": 0,
  "metadata": {
    "colab": {
      "provenance": [],
      "mount_file_id": "192QTcY3ugbUFNlWwyI3oGadvBTPd_hgT",
      "authorship_tag": "ABX9TyO/JF/JJmZEK2AvEkAVYiZv",
      "include_colab_link": true
    },
    "kernelspec": {
      "name": "python3",
      "display_name": "Python 3"
    },
    "language_info": {
      "name": "python"
    }
  },
  "cells": [
    {
      "cell_type": "markdown",
      "metadata": {
        "id": "view-in-github",
        "colab_type": "text"
      },
      "source": [
        "<a href=\"https://colab.research.google.com/github/Hanbin-git/dacon_new_drug/blob/main/20250626(3).ipynb\" target=\"_parent\"><img src=\"https://colab.research.google.com/assets/colab-badge.svg\" alt=\"Open In Colab\"/></a>"
      ]
    },
    {
      "cell_type": "code",
      "execution_count": 1,
      "metadata": {
        "colab": {
          "base_uri": "https://localhost:8080/"
        },
        "id": "Ouk01fRgJCpo",
        "outputId": "adff3724-5ddd-40f6-bdd3-40a792f42789"
      },
      "outputs": [
        {
          "output_type": "stream",
          "name": "stdout",
          "text": [
            "Drive already mounted at /content/drive; to attempt to forcibly remount, call drive.mount(\"/content/drive\", force_remount=True).\n"
          ]
        }
      ],
      "source": [
        "# google Drive 마운트\n",
        "from google.colab import drive\n",
        "drive.mount('/content/drive')"
      ]
    },
    {
      "cell_type": "code",
      "source": [
        "import zipfile\n",
        "\n",
        "zip_path = '/content/drive/MyDrive/data.zip'\n",
        "extract_path = '/content/project_data'  # 원하는 경로\n",
        "\n",
        "with zipfile.ZipFile(zip_path, 'r') as zip_ref:\n",
        "    zip_ref.extractall(extract_path)\n"
      ],
      "metadata": {
        "id": "5GSwOCNKKgHv"
      },
      "execution_count": 2,
      "outputs": []
    },
    {
      "cell_type": "code",
      "source": [
        "import pandas as pd\n",
        "\n",
        "path = '/content/project_data/'  # 압축 해제 경로\n",
        "train = pd.read_csv(path + 'train.csv')\n",
        "test = pd.read_csv(path + 'test.csv')\n",
        "submission = pd.read_csv(path + 'sample_submission.csv')\n",
        "\n",
        "print(train.shape, test.shape, submission.shape)\n"
      ],
      "metadata": {
        "colab": {
          "base_uri": "https://localhost:8080/"
        },
        "id": "gor_BqOTLB9m",
        "outputId": "24ba2792-f526-4970-fe3f-5760bc3f5f97"
      },
      "execution_count": 3,
      "outputs": [
        {
          "output_type": "stream",
          "name": "stdout",
          "text": [
            "(1681, 3) (100, 2) (100, 2)\n"
          ]
        }
      ]
    },
    {
      "cell_type": "code",
      "source": [
        "# # RDKit 설치 (Colab에서 가능)\n",
        "# !pip uninstall -y rdkit-pypi\n",
        "# !pip install rdkit-pypi==2022.9.5 optuna xgboost\n",
        "\n"
      ],
      "metadata": {
        "id": "2oVRgT8ZLQue"
      },
      "execution_count": 4,
      "outputs": []
    },
    {
      "cell_type": "code",
      "source": [
        "# !pip install numpy==1.23.5\n",
        "# import os\n",
        "# os.kill(os.getpid(), 9)  # 런타임 재시작 (필수)\n"
      ],
      "metadata": {
        "id": "Zl-mgMeVuco_"
      },
      "execution_count": 5,
      "outputs": []
    },
    {
      "cell_type": "code",
      "source": [
        "# !pip install rdkit-pypi catboost\n"
      ],
      "metadata": {
        "id": "puyCFz0vtumx"
      },
      "execution_count": 6,
      "outputs": []
    },
    {
      "cell_type": "code",
      "source": [
        "# !pip uninstall xgboost -y\n",
        "# !pip install xgboost==1.6.0"
      ],
      "metadata": {
        "id": "VQY9kt1u8MA6"
      },
      "execution_count": 7,
      "outputs": []
    },
    {
      "cell_type": "code",
      "source": [
        "# # ✅ Kaggle 환경에서 패키지 호환 버전으로 재설치\n",
        "# !pip install --quiet --upgrade scikit-learn==1.1.3\n",
        "# !pip install --quiet xgboost==1.6.2 lightgbm==3.3.5 catboost==1.2.2\n"
      ],
      "metadata": {
        "id": "e5pQoSJqrSlr"
      },
      "execution_count": 8,
      "outputs": []
    },
    {
      "cell_type": "code",
      "source": [
        "import pandas as pd\n",
        "import numpy as np\n",
        "from rdkit import Chem\n",
        "from rdkit.Chem import Descriptors, MACCSkeys, AllChem\n",
        "from sklearn.preprocessing import StandardScaler\n",
        "from sklearn.decomposition import PCA\n",
        "from sklearn.metrics import mean_absolute_error\n",
        "from lightgbm import LGBMRegressor\n",
        "from xgboost import XGBRegressor\n",
        "from catboost import CatBoostRegressor\n",
        "from sklearn.model_selection import GroupKFold\n",
        "\n",
        "# 경로 설정\n",
        "path = \"/content/project_data/\"\n",
        "train = pd.read_csv(path + \"train.csv\")\n",
        "test = pd.read_csv(path + \"test.csv\")\n",
        "submission = pd.read_csv(path + \"sample_submission.csv\")\n",
        "\n",
        "# SMILES feature 생성\n",
        "desc_funcs = [f for _, f in Descriptors._descList]\n",
        "def featurize(smiles):\n",
        "    mol = Chem.MolFromSmiles(str(smiles))\n",
        "    if mol is None:\n",
        "        return [0] * (len(desc_funcs) + 2048 + 167)\n",
        "    desc = [safe(f, mol) for f in desc_funcs]\n",
        "    morgan = list(AllChem.GetMorganFingerprintAsBitVect(mol, 2, 2048))\n",
        "    maccs = list(MACCSkeys.GenMACCSKeys(mol))\n",
        "    return desc + morgan + maccs\n",
        "\n",
        "def safe(f, mol):\n",
        "    try:\n",
        "        val = f(mol)\n",
        "        return 0 if (np.isnan(val) or np.isinf(val)) else val\n",
        "    except:\n",
        "        return 0\n",
        "\n",
        "X = np.array([featurize(s) for s in train[\"Canonical_Smiles\"]])\n",
        "X_test = np.array([featurize(s) for s in test[\"Canonical_Smiles\"]])\n",
        "y = train[\"Inhibition\"].values\n",
        "groups = train[\"Canonical_Smiles\"].values\n",
        "\n",
        "# 스케일링 + PCA\n",
        "scaler = StandardScaler()\n",
        "X_scaled = scaler.fit_transform(X)\n",
        "X_test_scaled = scaler.transform(X_test)\n",
        "\n",
        "X_scaled = np.nan_to_num(X_scaled)\n",
        "X_test_scaled = np.nan_to_num(X_test_scaled)\n",
        "\n",
        "pca = PCA(n_components=300, random_state=42)\n",
        "X_pca = pca.fit_transform(X_scaled)\n",
        "X_test_pca = pca.transform(X_test_scaled)\n",
        "\n",
        "# 모델 비교 (GroupKFold)\n",
        "cv = GroupKFold(n_splits=5)\n",
        "models = {\n",
        "    \"LGBM\": LGBMRegressor(random_state=42),\n",
        "    \"XGB\": XGBRegressor(random_state=42, tree_method=\"hist\"),\n",
        "    \"CatBoost\": CatBoostRegressor(random_state=42, verbose=0)\n",
        "}\n",
        "\n",
        "for name, model in models.items():\n",
        "    scores = []\n",
        "    for train_idx, val_idx in cv.split(X_pca, y, groups):\n",
        "        model.fit(X_pca[train_idx], y[train_idx])\n",
        "        preds = model.predict(X_pca[val_idx])\n",
        "        score = mean_absolute_error(y[val_idx], preds)\n",
        "        scores.append(score)\n",
        "    print(f\"{name} MAE: {np.mean(scores):.4f}\")\n",
        "\n",
        "# 최고 모델 선택 후 전체 학습 및 예측\n",
        "best_model = LGBMRegressor(random_state=42)\n",
        "best_model.fit(X_pca, y)\n",
        "submission[\"Inhibition\"] = best_model.predict(X_test_pca)\n",
        "submission.to_csv(\"submission.csv\", index=False)\n",
        "print(\"✅ submission.csv 저장 완료!\")\n"
      ],
      "metadata": {
        "colab": {
          "base_uri": "https://localhost:8080/"
        },
        "id": "weR_dz9-cbUU",
        "outputId": "403c26ca-682d-4391-9f7a-9f0f9650bebe"
      },
      "execution_count": 9,
      "outputs": [
        {
          "output_type": "stream",
          "name": "stdout",
          "text": [
            "LGBM MAE: 20.8543\n"
          ]
        },
        {
          "output_type": "stream",
          "name": "stderr",
          "text": [
            "/usr/local/lib/python3.11/dist-packages/cudf/utils/_ptxcompiler.py:64: UserWarning: Error getting driver and runtime versions:\n",
            "\n",
            "stdout:\n",
            "\n",
            "\n",
            "\n",
            "stderr:\n",
            "\n",
            "Traceback (most recent call last):\n",
            "  File \"<string>\", line 4, in <module>\n",
            "  File \"/usr/local/lib/python3.11/dist-packages/numba_cuda/numba/cuda/cudadrv/driver.py\", line 314, in __getattr__\n",
            "    raise CudaSupportError(\"Error at driver init: \\n%s:\" %\n",
            "numba.cuda.cudadrv.error.CudaSupportError: Error at driver init: \n",
            "\n",
            "CUDA driver library cannot be found.\n",
            "If you are sure that a CUDA driver is installed,\n",
            "try setting environment variable NUMBA_CUDA_DRIVER\n",
            "with the file path of the CUDA driver shared library.\n",
            ":\n",
            "\n",
            "\n",
            "Not patching Numba\n",
            "  warnings.warn(msg, UserWarning)\n",
            "/usr/local/lib/python3.11/dist-packages/cudf/utils/gpu_utils.py:62: UserWarning: Failed to dlopen libcuda.so.1\n",
            "  warnings.warn(str(e))\n"
          ]
        },
        {
          "output_type": "stream",
          "name": "stdout",
          "text": [
            "XGB MAE: 21.6727\n",
            "CatBoost MAE: 20.2283\n",
            "✅ submission.csv 저장 완료!\n"
          ]
        }
      ]
    },
    {
      "cell_type": "code",
      "source": [],
      "metadata": {
        "id": "88ZgqRbrOWFs"
      },
      "execution_count": 9,
      "outputs": []
    },
    {
      "cell_type": "code",
      "source": [],
      "metadata": {
        "id": "-QUwSFW2VLam"
      },
      "execution_count": 9,
      "outputs": []
    }
  ]
}