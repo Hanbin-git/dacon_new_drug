{
  "nbformat": 4,
  "nbformat_minor": 0,
  "metadata": {
    "colab": {
      "provenance": [],
      "machine_shape": "hm",
      "gpuType": "A100",
      "mount_file_id": "1_4n7PKHxgqa4HNpQuf8WrIfn_bujDnJ7",
      "authorship_tag": "ABX9TyPspGKgPp/+GSFKWDGjbr9R",
      "include_colab_link": true
    },
    "kernelspec": {
      "name": "python3",
      "display_name": "Python 3"
    },
    "language_info": {
      "name": "python"
    },
    "accelerator": "GPU"
  },
  "cells": [
    {
      "cell_type": "markdown",
      "metadata": {
        "id": "view-in-github",
        "colab_type": "text"
      },
      "source": [
        "<a href=\"https://colab.research.google.com/github/Hanbin-git/dacon_new_drug/blob/main/20250724_%EC%9D%BC%EB%B0%98%EC%A0%84%EB%9E%B5%20%EC%A0%81%EC%9A%A9.ipynb\" target=\"_parent\"><img src=\"https://colab.research.google.com/assets/colab-badge.svg\" alt=\"Open In Colab\"/></a>"
      ]
    },
    {
      "cell_type": "code",
      "execution_count": 2,
      "metadata": {
        "colab": {
          "base_uri": "https://localhost:8080/"
        },
        "id": "fkNYexTpu1Ri",
        "outputId": "12fe5b61-8368-4952-c767-d08d79a2da32"
      },
      "outputs": [
        {
          "output_type": "stream",
          "name": "stdout",
          "text": [
            "Drive already mounted at /content/drive; to attempt to forcibly remount, call drive.mount(\"/content/drive\", force_remount=True).\n"
          ]
        }
      ],
      "source": [
        "from google.colab import drive\n",
        "drive.mount('/content/drive')"
      ]
    },
    {
      "cell_type": "code",
      "source": [
        "!unzip -o \"/content/drive/MyDrive/data.zip\" -d \"/content/data_1\""
      ],
      "metadata": {
        "colab": {
          "base_uri": "https://localhost:8080/"
        },
        "id": "dbgux4TZvMOS",
        "outputId": "52db955d-3c9c-4d59-eb28-340bcc3136d3"
      },
      "execution_count": 3,
      "outputs": [
        {
          "output_type": "stream",
          "name": "stdout",
          "text": [
            "Archive:  /content/drive/MyDrive/data.zip\n",
            "  inflating: /content/data_1/sample_submission.csv  \n",
            "  inflating: /content/data_1/test.csv  \n",
            "  inflating: /content/data_1/train.csv  \n"
          ]
        }
      ]
    },
    {
      "cell_type": "code",
      "source": [
        "# ==============================================================================\n",
        "# ✅ 초기 환경 설정 및 라이브러리 설치 (가장 먼저 실행)\n",
        "# ==============================================================================\n",
        "\n",
        "# 1. pip 캐시를 모두 비웁니다.\n",
        "print(\"Clearing pip cache...\")\n",
        "!pip cache purge\n",
        "\n",
        "# 2. numpy와 scikit-learn 관련 패키지를 강제로 제거합니다.\n",
        "print(\"Uninstalling numpy and scikit-learn related packages...\")\n",
        "!pip freeze | grep -E 'numpy|scikit-learn' | xargs -n 1 pip uninstall -y\n",
        "\n",
        "# 3. Colab 기본 라이브러리 (TensorFlow, Numba 등)와 호환되는 특정 버전의 numpy와 scikit-learn을 설치합니다.\n",
        "#    numpy를 1.26.x 대로 낮춰서 시도합니다.\n",
        "print(\"Installing compatible versions of numpy and scikit-learn (attempting numpy 1.26.x)...\")\n",
        "!pip install numpy==1.26.4 scikit-learn==1.6.0 --no-cache-dir --quiet\n",
        "\n",
        "# 4. 나머지 필요한 라이브러리들을 설치합니다.\n",
        "print(\"Installing other necessary libraries...\")\n",
        "!pip install rdkit-pypi catboost xgboost lightgbm optuna --no-cache-dir --quiet\n",
        "\n",
        "# 5. 파이썬 런타임을 강제로 재시작합니다. (가장 중요!)\n",
        "print(\"Forcing runtime restart... Please wait a few seconds for reconnection.\")\n",
        "import os\n",
        "os.kill(os.getpid(), 9)\n",
        "\n",
        "# =============================================================================="
      ],
      "metadata": {
        "colab": {
          "base_uri": "https://localhost:8080/"
        },
        "id": "CONAz5AYLqdW",
        "outputId": "50c7cbdb-70c8-4806-de1c-7f2d6f1b9296"
      },
      "execution_count": null,
      "outputs": [
        {
          "output_type": "stream",
          "name": "stdout",
          "text": [
            "Clearing pip cache...\n",
            "\u001b[33mWARNING: No matching packages\u001b[0m\u001b[33m\n",
            "\u001b[0mFiles removed: 0\n",
            "Uninstalling numpy and scikit-learn related packages...\n",
            "Found existing installation: numpy 2.0.2\n",
            "Uninstalling numpy-2.0.2:\n",
            "  Successfully uninstalled numpy-2.0.2\n",
            "Found existing installation: scikit-learn 1.6.1\n",
            "Uninstalling scikit-learn-1.6.1:\n",
            "  Successfully uninstalled scikit-learn-1.6.1\n",
            "Installing compatible versions of numpy and scikit-learn (attempting numpy 1.26.x)...\n",
            "\u001b[2K     \u001b[90m━━━━━━━━━━━━━━━━━━━━━━━━━━━━━━━━━━━━━━━━\u001b[0m \u001b[32m61.0/61.0 kB\u001b[0m \u001b[31m89.4 MB/s\u001b[0m eta \u001b[36m0:00:00\u001b[0m\n",
            "\u001b[2K   \u001b[90m━━━━━━━━━━━━━━━━━━━━━━━━━━━━━━━━━━━━━━━━\u001b[0m \u001b[32m18.3/18.3 MB\u001b[0m \u001b[31m358.1 MB/s\u001b[0m eta \u001b[36m0:00:00\u001b[0m\n",
            "\u001b[2K   \u001b[90m━━━━━━━━━━━━━━━━━━━━━━━━━━━━━━━━━━━━━━━━\u001b[0m \u001b[32m13.5/13.5 MB\u001b[0m \u001b[31m26.6 MB/s\u001b[0m eta \u001b[36m0:00:00\u001b[0m\n",
            "\u001b[?25h\u001b[31mERROR: pip's dependency resolver does not currently take into account all the packages that are installed. This behaviour is the source of the following dependency conflicts.\n",
            "opencv-python 4.12.0.88 requires numpy<2.3.0,>=2; python_version >= \"3.9\", but you have numpy 1.26.4 which is incompatible.\n",
            "opencv-contrib-python 4.12.0.88 requires numpy<2.3.0,>=2; python_version >= \"3.9\", but you have numpy 1.26.4 which is incompatible.\n",
            "thinc 8.3.6 requires numpy<3.0.0,>=2.0.0, but you have numpy 1.26.4 which is incompatible.\n",
            "opencv-python-headless 4.12.0.88 requires numpy<2.3.0,>=2; python_version >= \"3.9\", but you have numpy 1.26.4 which is incompatible.\u001b[0m\u001b[31m\n",
            "\u001b[0mInstalling other necessary libraries...\n",
            "\u001b[2K   \u001b[90m━━━━━━━━━━━━━━━━━━━━━━━━━━━━━━━━━━━━━━━━\u001b[0m \u001b[32m29.4/29.4 MB\u001b[0m \u001b[31m217.6 MB/s\u001b[0m eta \u001b[36m0:00:00\u001b[0m\n",
            "\u001b[2K   \u001b[90m━━━━━━━━━━━━━━━━━━━━━━━━━━━━━━━━━━━━━━━━\u001b[0m \u001b[32m99.2/99.2 MB\u001b[0m \u001b[31m363.2 MB/s\u001b[0m eta \u001b[36m0:00:00\u001b[0m\n",
            "\u001b[2K   \u001b[90m━━━━━━━━━━━━━━━━━━━━━━━━━━━━━━━━━━━━━━━\u001b[0m \u001b[32m395.9/395.9 kB\u001b[0m \u001b[31m359.7 MB/s\u001b[0m eta \u001b[36m0:00:00\u001b[0m\n",
            "\u001b[2K   \u001b[90m━━━━━━━━━━━━━━━━━━━━━━━━━━━━━━━━━━━━━━━\u001b[0m \u001b[32m247.0/247.0 kB\u001b[0m \u001b[31m347.9 MB/s\u001b[0m eta \u001b[36m0:00:00\u001b[0m\n",
            "\u001b[?25h"
          ]
        }
      ]
    },
    {
      "cell_type": "code",
      "source": [
        "# numpy & scikit-learn 호환성 보장 버전으로 재설치\n",
        "!pip install numpy==1.26.4 scikit-learn==1.5.0 --force-reinstall --quiet --no-cache-dir\n"
      ],
      "metadata": {
        "colab": {
          "base_uri": "https://localhost:8080/"
        },
        "id": "J5rHbBddCiL1",
        "outputId": "d2835468-3c2c-4a53-f6ee-04758dc4ef4c"
      },
      "execution_count": 1,
      "outputs": [
        {
          "output_type": "stream",
          "name": "stdout",
          "text": [
            "\u001b[2K     \u001b[90m━━━━━━━━━━━━━━━━━━━━━━━━━━━━━━━━━━━━━━━\u001b[0m \u001b[32m61.0/61.0 kB\u001b[0m \u001b[31m118.8 MB/s\u001b[0m eta \u001b[36m0:00:00\u001b[0m\n",
            "\u001b[2K     \u001b[90m━━━━━━━━━━━━━━━━━━━━━━━━━━━━━━━━━━━━━━━\u001b[0m \u001b[32m61.9/61.9 kB\u001b[0m \u001b[31m237.8 MB/s\u001b[0m eta \u001b[36m0:00:00\u001b[0m\n",
            "\u001b[2K   \u001b[90m━━━━━━━━━━━━━━━━━━━━━━━━━━━━━━━━━━━━━━━━\u001b[0m \u001b[32m18.3/18.3 MB\u001b[0m \u001b[31m357.2 MB/s\u001b[0m eta \u001b[36m0:00:00\u001b[0m\n",
            "\u001b[2K   \u001b[90m━━━━━━━━━━━━━━━━━━━━━━━━━━━━━━━━━━━━━━━━\u001b[0m \u001b[32m13.3/13.3 MB\u001b[0m \u001b[31m132.5 MB/s\u001b[0m eta \u001b[36m0:00:00\u001b[0m\n",
            "\u001b[2K   \u001b[90m━━━━━━━━━━━━━━━━━━━━━━━━━━━━━━━━━━━━━━━\u001b[0m \u001b[32m307.7/307.7 kB\u001b[0m \u001b[31m364.6 MB/s\u001b[0m eta \u001b[36m0:00:00\u001b[0m\n",
            "\u001b[2K   \u001b[90m━━━━━━━━━━━━━━━━━━━━━━━━━━━━━━━━━━━━━━━━\u001b[0m \u001b[32m35.3/35.3 MB\u001b[0m \u001b[31m287.9 MB/s\u001b[0m eta \u001b[36m0:00:00\u001b[0m\n",
            "\u001b[?25h\u001b[31mERROR: pip's dependency resolver does not currently take into account all the packages that are installed. This behaviour is the source of the following dependency conflicts.\n",
            "umap-learn 0.5.9.post2 requires scikit-learn>=1.6, but you have scikit-learn 1.5.0 which is incompatible.\n",
            "opencv-python 4.12.0.88 requires numpy<2.3.0,>=2; python_version >= \"3.9\", but you have numpy 1.26.4 which is incompatible.\n",
            "opencv-contrib-python 4.12.0.88 requires numpy<2.3.0,>=2; python_version >= \"3.9\", but you have numpy 1.26.4 which is incompatible.\n",
            "thinc 8.3.6 requires numpy<3.0.0,>=2.0.0, but you have numpy 1.26.4 which is incompatible.\n",
            "opencv-python-headless 4.12.0.88 requires numpy<2.3.0,>=2; python_version >= \"3.9\", but you have numpy 1.26.4 which is incompatible.\u001b[0m\u001b[31m\n",
            "\u001b[0m"
          ]
        }
      ]
    },
    {
      "cell_type": "code",
      "source": [
        "!pip install rdkit-pypi catboost xgboost lightgbm optuna --quiet --no-cache-dir\n"
      ],
      "metadata": {
        "id": "lpQ2A5WVCtkd"
      },
      "execution_count": 2,
      "outputs": []
    },
    {
      "cell_type": "code",
      "source": [
        "import os\n",
        "os.kill(os.getpid(), 9)\n"
      ],
      "metadata": {
        "id": "MR1XDtT-C0Bs"
      },
      "execution_count": null,
      "outputs": []
    },
    {
      "cell_type": "code",
      "source": [
        "# ✅ 1. 라이브러리\n",
        "import pandas as pd, numpy as np, optuna, time\n",
        "from sklearn.model_selection import KFold\n",
        "from sklearn.metrics import mean_absolute_error\n",
        "from rdkit import Chem\n",
        "from rdkit.Chem import Descriptors, AllChem, MACCSkeys, Lipinski\n",
        "from catboost import CatBoostRegressor, Pool\n",
        "import warnings\n",
        "warnings.filterwarnings(\"ignore\")\n",
        "\n",
        "# ✅ 2. 데이터 경로 설정 (Colab)\n",
        "train_path = \"/content/data_1/train.csv\"\n",
        "test_path = \"/content/data_1/test.csv\"\n",
        "submission_path = \"/content/data_1/sample_submission.csv\"\n",
        "\n",
        "# ✅ 3. 데이터 로딩\n",
        "train = pd.read_csv(train_path)\n",
        "test = pd.read_csv(test_path)\n",
        "submission = pd.read_csv(submission_path)\n",
        "\n",
        "# ✅ 4. SMILES → Mol 변환\n",
        "train[\"Mol\"] = train[\"Canonical_Smiles\"].apply(Chem.MolFromSmiles)\n",
        "test[\"Mol\"] = test[\"Canonical_Smiles\"].apply(Chem.MolFromSmiles)\n",
        "\n",
        "# ✅ 5. Feature 생성 함수 (RDKit + Fingerprint)\n",
        "def get_features(df):\n",
        "    features = []\n",
        "    for mol in df[\"Mol\"]:\n",
        "        if mol is None:\n",
        "            features.append(np.zeros(2048 + 10))\n",
        "            continue\n",
        "        fp = AllChem.GetMorganFingerprintAsBitVect(mol, radius=2, nBits=2048)\n",
        "        descs = [\n",
        "            Descriptors.MolWt(mol),\n",
        "            Descriptors.MolLogP(mol),\n",
        "            Descriptors.NumHAcceptors(mol),\n",
        "            Descriptors.NumHDonors(mol),\n",
        "            Descriptors.TPSA(mol),\n",
        "            Descriptors.NumRotatableBonds(mol),\n",
        "            Descriptors.RingCount(mol),\n",
        "            Lipinski.NumAromaticRings(mol),\n",
        "            Lipinski.NumAliphaticRings(mol),\n",
        "            Lipinski.NumSaturatedRings(mol),\n",
        "        ]\n",
        "        features.append(np.concatenate([fp, descs]))\n",
        "    return pd.DataFrame(features)\n",
        "\n",
        "X = get_features(train)\n",
        "X_test = get_features(test)\n",
        "y = train[\"Inhibition\"]\n",
        "\n",
        "# ✅ 6. Optuna 튜닝 Objective\n",
        "def objective(trial):\n",
        "    params = {\n",
        "        \"depth\": trial.suggest_int(\"depth\", 4, 10),\n",
        "        \"learning_rate\": trial.suggest_float(\"learning_rate\", 0.01, 0.2),\n",
        "        \"l2_leaf_reg\": trial.suggest_float(\"l2_leaf_reg\", 1, 10),\n",
        "        \"bagging_temperature\": trial.suggest_float(\"bagging_temperature\", 0.0, 1.0),\n",
        "        \"random_strength\": trial.suggest_float(\"random_strength\", 1e-9, 10.0),\n",
        "        \"iterations\": 3000,\n",
        "        \"task_type\": \"GPU\",\n",
        "        \"devices\": \"0\",\n",
        "        \"verbose\": 0,\n",
        "        \"early_stopping_rounds\": 50\n",
        "    }\n",
        "\n",
        "    kf = KFold(n_splits=5, shuffle=True, random_state=42)\n",
        "    maes = []\n",
        "    for train_idx, valid_idx in kf.split(X):\n",
        "        X_train, X_valid = X.iloc[train_idx], X.iloc[valid_idx]\n",
        "        y_train, y_valid = y.iloc[train_idx], y.iloc[valid_idx]\n",
        "\n",
        "        model = CatBoostRegressor(**params)\n",
        "        model.fit(X_train, y_train, eval_set=(X_valid, y_valid), use_best_model=True)\n",
        "        preds = model.predict(X_valid)\n",
        "        mae = mean_absolute_error(y_valid, preds)\n",
        "        maes.append(mae)\n",
        "\n",
        "    return np.mean(maes)\n",
        "\n",
        "# ✅ 7. Optuna 튜닝 수행\n",
        "study = optuna.create_study(direction=\"minimize\")\n",
        "study.optimize(objective, n_trials=50)\n",
        "print(\"✅ Best Params:\", study.best_params)\n",
        "\n",
        "# ✅ 8. 최적 파라미터로 전체 학습\n",
        "best_params = study.best_params\n",
        "best_params.update({\n",
        "    \"iterations\": 3000,\n",
        "    \"task_type\": \"GPU\",\n",
        "    \"devices\": \"0\",\n",
        "    \"early_stopping_rounds\": 50,\n",
        "    \"verbose\": 500\n",
        "})\n",
        "\n",
        "final_model = CatBoostRegressor(**best_params)\n",
        "final_model.fit(X, y)\n",
        "\n",
        "# ✅ 9. 예측 및 제출\n",
        "preds = final_model.predict(X_test)\n",
        "submission[\"Inhibition\"] = preds\n",
        "submission.to_csv(\"submission_catboost_optuna.csv\", index=False)\n",
        "print(\"✅ 제출 파일 저장 완료: submission_catboost_optuna.csv\")\n"
      ],
      "metadata": {
        "colab": {
          "base_uri": "https://localhost:8080/"
        },
        "id": "QMUp0ycx0RTV",
        "outputId": "d2eda0b5-8a54-4bdf-b0e0-670732a2cfda"
      },
      "execution_count": 1,
      "outputs": [
        {
          "output_type": "stream",
          "name": "stderr",
          "text": [
            "[I 2025-07-24 00:27:59,607] A new study created in memory with name: no-name-22f289ce-d8e0-4afe-aead-b4500a19d4a1\n",
            "[I 2025-07-24 00:28:23,738] Trial 0 finished with value: 19.848299539685012 and parameters: {'depth': 10, 'learning_rate': 0.16941918122839386, 'l2_leaf_reg': 6.679162970668696, 'bagging_temperature': 0.03946037037149386, 'random_strength': 7.516664402127794}. Best is trial 0 with value: 19.848299539685012.\n",
            "[I 2025-07-24 00:28:36,897] Trial 1 finished with value: 19.78045688863532 and parameters: {'depth': 5, 'learning_rate': 0.0666383385660528, 'l2_leaf_reg': 6.531849169898688, 'bagging_temperature': 0.33896922882559577, 'random_strength': 3.3643060129438322}. Best is trial 1 with value: 19.78045688863532.\n",
            "[I 2025-07-24 00:28:49,823] Trial 2 finished with value: 19.858360940764676 and parameters: {'depth': 5, 'learning_rate': 0.05870742230548659, 'l2_leaf_reg': 2.4663907758442742, 'bagging_temperature': 0.5741414513157761, 'random_strength': 4.095244228038913}. Best is trial 1 with value: 19.78045688863532.\n",
            "[I 2025-07-24 00:29:01,724] Trial 3 finished with value: 19.972982408667754 and parameters: {'depth': 7, 'learning_rate': 0.19276514760196942, 'l2_leaf_reg': 2.333769838709543, 'bagging_temperature': 0.9341315426340218, 'random_strength': 9.870901229337877}. Best is trial 1 with value: 19.78045688863532.\n",
            "[I 2025-07-24 00:29:15,799] Trial 4 finished with value: 19.874308181453465 and parameters: {'depth': 4, 'learning_rate': 0.04608704246727396, 'l2_leaf_reg': 8.205573358513186, 'bagging_temperature': 0.025636707448638774, 'random_strength': 5.384513735807204}. Best is trial 1 with value: 19.78045688863532.\n",
            "[I 2025-07-24 00:29:39,384] Trial 5 finished with value: 19.92735291226386 and parameters: {'depth': 10, 'learning_rate': 0.1963584028008477, 'l2_leaf_reg': 3.1843499614858315, 'bagging_temperature': 0.13519524007010175, 'random_strength': 9.122380482787797}. Best is trial 1 with value: 19.78045688863532.\n",
            "[I 2025-07-24 00:29:51,140] Trial 6 finished with value: 19.85129503855081 and parameters: {'depth': 4, 'learning_rate': 0.11475707876312737, 'l2_leaf_reg': 6.257006706349702, 'bagging_temperature': 0.5240107627507636, 'random_strength': 9.19057141657466}. Best is trial 1 with value: 19.78045688863532.\n",
            "[I 2025-07-24 00:30:04,044] Trial 7 finished with value: 19.818030497564916 and parameters: {'depth': 5, 'learning_rate': 0.08322324606409204, 'l2_leaf_reg': 4.160136097399069, 'bagging_temperature': 0.8024209024521299, 'random_strength': 8.858453398579611}. Best is trial 1 with value: 19.78045688863532.\n",
            "[I 2025-07-24 00:30:19,124] Trial 8 finished with value: 19.833988634054705 and parameters: {'depth': 8, 'learning_rate': 0.19902719334016525, 'l2_leaf_reg': 5.55838077732987, 'bagging_temperature': 0.6961804866608264, 'random_strength': 9.209680492561342}. Best is trial 1 with value: 19.78045688863532.\n",
            "[I 2025-07-24 00:30:30,573] Trial 9 finished with value: 19.817256333281918 and parameters: {'depth': 4, 'learning_rate': 0.13155935241381317, 'l2_leaf_reg': 1.1554358248958287, 'bagging_temperature': 0.9848602854225439, 'random_strength': 7.311894012996425}. Best is trial 1 with value: 19.78045688863532.\n",
            "[I 2025-07-24 00:31:06,667] Trial 10 finished with value: 19.824497200618985 and parameters: {'depth': 7, 'learning_rate': 0.015425828915054222, 'l2_leaf_reg': 9.670115710002346, 'bagging_temperature': 0.2901405244185397, 'random_strength': 0.5582094577206673}. Best is trial 1 with value: 19.78045688863532.\n",
            "[I 2025-07-24 00:31:17,419] Trial 11 finished with value: 19.985500722853956 and parameters: {'depth': 6, 'learning_rate': 0.13124117577108, 'l2_leaf_reg': 1.1071601223195842, 'bagging_temperature': 0.3637183652305398, 'random_strength': 2.649774574680629}. Best is trial 1 with value: 19.78045688863532.\n",
            "[I 2025-07-24 00:31:27,635] Trial 12 finished with value: 19.879887580771072 and parameters: {'depth': 5, 'learning_rate': 0.14935247421679296, 'l2_leaf_reg': 4.476778152398683, 'bagging_temperature': 0.3133620008062954, 'random_strength': 6.104565391904646}. Best is trial 1 with value: 19.78045688863532.\n",
            "[I 2025-07-24 00:31:39,489] Trial 13 finished with value: 19.78439962911574 and parameters: {'depth': 4, 'learning_rate': 0.09503408137386168, 'l2_leaf_reg': 7.753081485602145, 'bagging_temperature': 0.9456161282131353, 'random_strength': 3.0475457716078287}. Best is trial 1 with value: 19.78045688863532.\n",
            "[I 2025-07-24 00:31:53,213] Trial 14 finished with value: 19.788909080974047 and parameters: {'depth': 6, 'learning_rate': 0.08427068509122468, 'l2_leaf_reg': 7.689412507821421, 'bagging_temperature': 0.7012351058106545, 'random_strength': 2.1875432303979334}. Best is trial 1 with value: 19.78045688863532.\n",
            "[I 2025-07-24 00:32:07,017] Trial 15 finished with value: 19.816657417766002 and parameters: {'depth': 6, 'learning_rate': 0.08321949918900141, 'l2_leaf_reg': 9.18509965778918, 'bagging_temperature': 0.4271193098571362, 'random_strength': 3.630416597007706}. Best is trial 1 with value: 19.78045688863532.\n",
            "[I 2025-07-24 00:32:20,014] Trial 16 finished with value: 19.90804017901485 and parameters: {'depth': 4, 'learning_rate': 0.04831990395039439, 'l2_leaf_reg': 7.5459300794904545, 'bagging_temperature': 0.1795429701705885, 'random_strength': 0.9047956063965779}. Best is trial 1 with value: 19.78045688863532.\n",
            "[I 2025-07-24 00:33:15,424] Trial 17 finished with value: 19.807071882839455 and parameters: {'depth': 8, 'learning_rate': 0.015188721794815702, 'l2_leaf_reg': 8.513523073338687, 'bagging_temperature': 0.6235194584314518, 'random_strength': 2.3145630557147685}. Best is trial 1 with value: 19.78045688863532.\n",
            "[I 2025-07-24 00:33:28,055] Trial 18 finished with value: 19.680035456887435 and parameters: {'depth': 5, 'learning_rate': 0.10241282624747099, 'l2_leaf_reg': 6.490954192088343, 'bagging_temperature': 0.8175774635077507, 'random_strength': 3.844677040758154}. Best is trial 18 with value: 19.680035456887435.\n",
            "[I 2025-07-24 00:33:46,682] Trial 19 finished with value: 19.752068061770856 and parameters: {'depth': 8, 'learning_rate': 0.11258758505268186, 'l2_leaf_reg': 6.6635517681622085, 'bagging_temperature': 0.824757409556449, 'random_strength': 4.300003253080352}. Best is trial 18 with value: 19.680035456887435.\n",
            "[I 2025-07-24 00:34:12,145] Trial 20 finished with value: 19.783227473200462 and parameters: {'depth': 9, 'learning_rate': 0.11549482412249544, 'l2_leaf_reg': 5.127957889414037, 'bagging_temperature': 0.8381858704382399, 'random_strength': 4.73558289266151}. Best is trial 18 with value: 19.680035456887435.\n",
            "[I 2025-07-24 00:34:35,620] Trial 21 finished with value: 19.823202355784804 and parameters: {'depth': 8, 'learning_rate': 0.06647564969336457, 'l2_leaf_reg': 6.825697785995455, 'bagging_temperature': 0.839544587528307, 'random_strength': 5.702769575525171}. Best is trial 18 with value: 19.680035456887435.\n",
            "[I 2025-07-24 00:34:56,472] Trial 22 finished with value: 19.941096684839295 and parameters: {'depth': 9, 'learning_rate': 0.10320628161521225, 'l2_leaf_reg': 6.294033211258691, 'bagging_temperature': 0.44204971195449605, 'random_strength': 1.4398322455543053}. Best is trial 18 with value: 19.680035456887435.\n",
            "[I 2025-07-24 00:35:08,580] Trial 23 finished with value: 19.785364849145715 and parameters: {'depth': 6, 'learning_rate': 0.13173869488634146, 'l2_leaf_reg': 5.3540147356124805, 'bagging_temperature': 0.7053398301873142, 'random_strength': 4.5288198912961}. Best is trial 18 with value: 19.680035456887435.\n",
            "[I 2025-07-24 00:35:28,349] Trial 24 finished with value: 19.75458679952686 and parameters: {'depth': 5, 'learning_rate': 0.03661020239285713, 'l2_leaf_reg': 6.897756869127825, 'bagging_temperature': 0.7862898895212237, 'random_strength': 3.8059662366456166}. Best is trial 18 with value: 19.680035456887435.\n",
            "[I 2025-07-24 00:35:58,401] Trial 25 finished with value: 19.714914665163395 and parameters: {'depth': 7, 'learning_rate': 0.031762743063465465, 'l2_leaf_reg': 7.160370780705718, 'bagging_temperature': 0.7732787053044646, 'random_strength': 6.3903197904224385}. Best is trial 18 with value: 19.680035456887435.\n",
            "[I 2025-07-24 00:36:24,053] Trial 26 finished with value: 19.830459348972518 and parameters: {'depth': 9, 'learning_rate': 0.15319715434399528, 'l2_leaf_reg': 8.759646122332988, 'bagging_temperature': 0.8782075422365789, 'random_strength': 6.7052179375184515}. Best is trial 18 with value: 19.680035456887435.\n",
            "[I 2025-07-24 00:36:50,933] Trial 27 finished with value: 19.72844836078571 and parameters: {'depth': 7, 'learning_rate': 0.0320268946001721, 'l2_leaf_reg': 5.735404479907493, 'bagging_temperature': 0.7521157873727858, 'random_strength': 6.239736854350906}. Best is trial 18 with value: 19.680035456887435.\n",
            "[I 2025-07-24 00:37:18,705] Trial 28 finished with value: 19.770752049118236 and parameters: {'depth': 7, 'learning_rate': 0.03142754961217033, 'l2_leaf_reg': 5.816095722394714, 'bagging_temperature': 0.6305889586133944, 'random_strength': 7.991996001331324}. Best is trial 18 with value: 19.680035456887435.\n",
            "[I 2025-07-24 00:37:47,176] Trial 29 finished with value: 19.780659147819424 and parameters: {'depth': 7, 'learning_rate': 0.03123016566902849, 'l2_leaf_reg': 4.797357172452198, 'bagging_temperature': 0.7514435871790037, 'random_strength': 6.5878393750612405}. Best is trial 18 with value: 19.680035456887435.\n",
            "[I 2025-07-24 00:38:29,064] Trial 30 finished with value: 19.767011737199176 and parameters: {'depth': 6, 'learning_rate': 0.01332721869408111, 'l2_leaf_reg': 3.7930791479918615, 'bagging_temperature': 0.9250849398506215, 'random_strength': 7.607655389426442}. Best is trial 18 with value: 19.680035456887435.\n",
            "[I 2025-07-24 00:38:44,010] Trial 31 finished with value: 19.925669788670227 and parameters: {'depth': 8, 'learning_rate': 0.16164120446815095, 'l2_leaf_reg': 7.33345853648541, 'bagging_temperature': 0.7483172652552673, 'random_strength': 5.156000967387945}. Best is trial 18 with value: 19.680035456887435.\n",
            "[I 2025-07-24 00:39:01,918] Trial 32 finished with value: 19.699106892133535 and parameters: {'depth': 7, 'learning_rate': 0.0712902618930106, 'l2_leaf_reg': 6.087235815094542, 'bagging_temperature': 0.6357749831819354, 'random_strength': 6.051555503031942}. Best is trial 18 with value: 19.680035456887435.\n",
            "[I 2025-07-24 00:39:19,497] Trial 33 finished with value: 19.79446001099903 and parameters: {'depth': 7, 'learning_rate': 0.05845866570841798, 'l2_leaf_reg': 6.060220969059728, 'bagging_temperature': 0.6294861392922387, 'random_strength': 5.930420400604744}. Best is trial 18 with value: 19.680035456887435.\n",
            "[I 2025-07-24 00:39:35,642] Trial 34 finished with value: 19.77205481655544 and parameters: {'depth': 6, 'learning_rate': 0.07220929838651265, 'l2_leaf_reg': 7.16699392307126, 'bagging_temperature': 0.5940407219357748, 'random_strength': 6.861253048092463}. Best is trial 18 with value: 19.680035456887435.\n",
            "[I 2025-07-24 00:39:58,026] Trial 35 finished with value: 19.808238903509885 and parameters: {'depth': 7, 'learning_rate': 0.042617886533783136, 'l2_leaf_reg': 5.924447555705532, 'bagging_temperature': 0.5391317385082355, 'random_strength': 6.150487734125276}. Best is trial 18 with value: 19.680035456887435.\n",
            "[I 2025-07-24 00:40:32,495] Trial 36 finished with value: 19.80028966559572 and parameters: {'depth': 7, 'learning_rate': 0.02461921144925805, 'l2_leaf_reg': 8.10875999981264, 'bagging_temperature': 0.8894228034020243, 'random_strength': 8.188824033569729}. Best is trial 18 with value: 19.680035456887435.\n",
            "[I 2025-07-24 00:41:23,647] Trial 37 finished with value: 19.841295754682072 and parameters: {'depth': 10, 'learning_rate': 0.05599265696834185, 'l2_leaf_reg': 5.077899703347414, 'bagging_temperature': 0.672616275742614, 'random_strength': 5.347442332230733}. Best is trial 18 with value: 19.680035456887435.\n",
            "[I 2025-07-24 00:41:37,198] Trial 38 finished with value: 19.71481327982318 and parameters: {'depth': 5, 'learning_rate': 0.07580536765591286, 'l2_leaf_reg': 6.474532102351647, 'bagging_temperature': 0.7369540090743675, 'random_strength': 7.102113344147558}. Best is trial 18 with value: 19.680035456887435.\n",
            "[I 2025-07-24 00:41:49,857] Trial 39 finished with value: 19.749764313333724 and parameters: {'depth': 5, 'learning_rate': 0.0729799886342272, 'l2_leaf_reg': 6.751925693904152, 'bagging_temperature': 0.4792400160010813, 'random_strength': 7.249312962309145}. Best is trial 18 with value: 19.680035456887435.\n",
            "[I 2025-07-24 00:42:02,791] Trial 40 finished with value: 19.797795417837555 and parameters: {'depth': 5, 'learning_rate': 0.08205747639127062, 'l2_leaf_reg': 6.324222897301683, 'bagging_temperature': 0.5792849067010669, 'random_strength': 8.220291991685997}. Best is trial 18 with value: 19.680035456887435.\n",
            "[I 2025-07-24 00:42:15,919] Trial 41 finished with value: 19.897370895774223 and parameters: {'depth': 6, 'learning_rate': 0.09212474746582745, 'l2_leaf_reg': 5.617359092936954, 'bagging_temperature': 0.7564029350293742, 'random_strength': 6.394184253123417}. Best is trial 18 with value: 19.680035456887435.\n",
            "[I 2025-07-24 00:42:31,187] Trial 42 finished with value: 19.767839809670477 and parameters: {'depth': 5, 'learning_rate': 0.05138608342800928, 'l2_leaf_reg': 7.1098627748058645, 'bagging_temperature': 0.6671141102333668, 'random_strength': 5.530848636314737}. Best is trial 18 with value: 19.680035456887435.\n",
            "[I 2025-07-24 00:42:56,620] Trial 43 finished with value: 19.709960233734723 and parameters: {'depth': 8, 'learning_rate': 0.07110925759983984, 'l2_leaf_reg': 6.373138793345991, 'bagging_temperature': 0.7842656288888059, 'random_strength': 6.952315025535354}. Best is trial 18 with value: 19.680035456887435.\n",
            "[I 2025-07-24 00:43:36,052] Trial 44 finished with value: 19.76111209233641 and parameters: {'depth': 9, 'learning_rate': 0.0647709175354947, 'l2_leaf_reg': 8.111843949970686, 'bagging_temperature': 0.8757144491225812, 'random_strength': 7.1624198508770895}. Best is trial 18 with value: 19.680035456887435.\n",
            "[I 2025-07-24 00:43:56,749] Trial 45 finished with value: 19.789025684534934 and parameters: {'depth': 8, 'learning_rate': 0.0997618167100463, 'l2_leaf_reg': 6.48834258219309, 'bagging_temperature': 0.7906410888217751, 'random_strength': 9.970743782819639}. Best is trial 18 with value: 19.680035456887435.\n",
            "[I 2025-07-24 00:44:06,519] Trial 46 finished with value: 19.795274561907746 and parameters: {'depth': 4, 'learning_rate': 0.18603693660572868, 'l2_leaf_reg': 4.661134969018852, 'bagging_temperature': 0.9508830697426753, 'random_strength': 7.477494325775995}. Best is trial 18 with value: 19.680035456887435.\n",
            "[I 2025-07-24 00:44:24,713] Trial 47 finished with value: 19.757452365934874 and parameters: {'depth': 8, 'learning_rate': 0.12112309931796683, 'l2_leaf_reg': 3.8995578609230988, 'bagging_temperature': 0.9980436920071923, 'random_strength': 6.88077293190868}. Best is trial 18 with value: 19.680035456887435.\n",
            "[I 2025-07-24 00:44:42,029] Trial 48 finished with value: 19.71835872663226 and parameters: {'depth': 7, 'learning_rate': 0.07704975767183218, 'l2_leaf_reg': 7.831868501895269, 'bagging_temperature': 0.6835305532590439, 'random_strength': 8.702359305470711}. Best is trial 18 with value: 19.680035456887435.\n",
            "[I 2025-07-24 00:44:55,208] Trial 49 finished with value: 19.80432541939764 and parameters: {'depth': 6, 'learning_rate': 0.09081163195098652, 'l2_leaf_reg': 2.125142712530574, 'bagging_temperature': 0.717174658104925, 'random_strength': 5.010542829925924}. Best is trial 18 with value: 19.680035456887435.\n"
          ]
        },
        {
          "output_type": "stream",
          "name": "stdout",
          "text": [
            "✅ Best Params: {'depth': 5, 'learning_rate': 0.10241282624747099, 'l2_leaf_reg': 6.490954192088343, 'bagging_temperature': 0.8175774635077507, 'random_strength': 3.844677040758154}\n",
            "0:\tlearn: 26.0862837\ttotal: 6.28ms\tremaining: 18.8s\n",
            "500:\tlearn: 16.6861759\ttotal: 2.7s\tremaining: 13.5s\n",
            "1000:\tlearn: 13.9339702\ttotal: 5.44s\tremaining: 10.9s\n",
            "1500:\tlearn: 12.0522049\ttotal: 8.12s\tremaining: 8.11s\n",
            "2000:\tlearn: 10.5858835\ttotal: 10.8s\tremaining: 5.4s\n",
            "2500:\tlearn: 9.4968768\ttotal: 13.5s\tremaining: 2.69s\n",
            "2999:\tlearn: 8.7179855\ttotal: 16.2s\tremaining: 0us\n",
            "✅ 제출 파일 저장 완료: submission_catboost_optuna.csv\n"
          ]
        }
      ]
    },
    {
      "cell_type": "code",
      "source": [
        "# ✅ 라이브러리 import\n",
        "import pandas as pd, numpy as np, shap, os\n",
        "from sklearn.model_selection import KFold\n",
        "from sklearn.metrics import mean_absolute_error\n",
        "from catboost import CatBoostRegressor, Pool\n",
        "\n",
        "# ✅ 데이터 경로\n",
        "DATA_PATH = \"/content/data_1/\"\n",
        "train = pd.read_csv(DATA_PATH + \"train.csv\")\n",
        "test = pd.read_csv(DATA_PATH + \"test.csv\")\n",
        "submission = pd.read_csv(DATA_PATH + \"sample_submission.csv\")\n",
        "\n",
        "# ✅ 전처리: SMILES → RDKit Mol\n",
        "from rdkit import Chem\n",
        "train[\"Mol\"] = train[\"Canonical_Smiles\"].apply(Chem.MolFromSmiles)\n",
        "test[\"Mol\"] = test[\"Canonical_Smiles\"].apply(Chem.MolFromSmiles)\n",
        "\n",
        "# ✅ 기본 분자 특징 + 파생 변수 생성 함수\n",
        "from rdkit.Chem import Descriptors, rdMolDescriptors, Crippen\n",
        "\n",
        "def get_features(df):\n",
        "    features = {\n",
        "        \"MolWt\": [],\n",
        "        \"TPSA\": [],\n",
        "        \"NumRotatableBonds\": [],\n",
        "        \"NumHAcceptors\": [],\n",
        "        \"NumHDonors\": [],\n",
        "        \"LogP\": [],\n",
        "    }\n",
        "\n",
        "    for mol in df[\"Mol\"]:\n",
        "        features[\"MolWt\"].append(Descriptors.MolWt(mol))\n",
        "        features[\"TPSA\"].append(rdMolDescriptors.CalcTPSA(mol))\n",
        "        features[\"NumRotatableBonds\"].append(Descriptors.NumRotatableBonds(mol))\n",
        "        features[\"NumHAcceptors\"].append(rdMolDescriptors.CalcNumHBA(mol))\n",
        "        features[\"NumHDonors\"].append(rdMolDescriptors.CalcNumHBD(mol))\n",
        "        features[\"LogP\"].append(Crippen.MolLogP(mol))\n",
        "\n",
        "    features_df = pd.DataFrame(features)\n",
        "\n",
        "    # ✅ 파생 변수 추가\n",
        "    features_df[\"MolWt_TPSA\"] = features_df[\"MolWt\"] * features_df[\"TPSA\"]\n",
        "\n",
        "    return features_df\n",
        "\n",
        "# ✅ 특성 추출\n",
        "X_train_full = get_features(train)\n",
        "X_test = get_features(test)\n",
        "y = train[\"Inhibition\"]\n",
        "\n",
        "# ✅ SHAP을 이용한 상위 변수 선택\n",
        "model = CatBoostRegressor(verbose=0, random_state=42)\n",
        "model.fit(X_train_full, y)\n",
        "explainer = shap.Explainer(model)\n",
        "shap_values = explainer(X_train_full)\n",
        "\n",
        "# 상위 5개 변수 선택\n",
        "shap_sum = np.abs(shap_values.values).mean(axis=0)\n",
        "top_features = X_train_full.columns[np.argsort(shap_sum)[::-1][:50]]\n",
        "\n",
        "X_train = X_train_full[top_features]\n",
        "X_test = X_test[top_features]\n",
        "\n",
        "# ✅ 최적 CatBoost 파라미터\n",
        "best_params = {\n",
        "    \"depth\": 5,\n",
        "    \"learning_rate\": 0.1024,\n",
        "    \"l2_leaf_reg\": 6.49,\n",
        "    \"bagging_temperature\": 0.82,\n",
        "    \"random_strength\": 3.84,\n",
        "    \"iterations\": 3000,\n",
        "    \"eval_metric\": \"MAE\",\n",
        "    \"loss_function\": \"MAE\",\n",
        "    \"verbose\": 0,\n",
        "    \"task_type\": \"GPU\"\n",
        "}\n",
        "\n",
        "# ✅ Cross-Validation + Soft Voting 앙상블\n",
        "kf = KFold(n_splits=5, shuffle=True, random_state=42)\n",
        "test_preds = np.zeros(len(X_test))\n",
        "val_scores = []\n",
        "\n",
        "for fold, (tr_idx, val_idx) in enumerate(kf.split(X_train)):\n",
        "    X_tr, X_val = X_train.iloc[tr_idx], X_train.iloc[val_idx]\n",
        "    y_tr, y_val = y.iloc[tr_idx], y.iloc[val_idx]\n",
        "\n",
        "    model = CatBoostRegressor(**best_params)\n",
        "    model.fit(X_tr, y_tr, eval_set=(X_val, y_val), early_stopping_rounds=100, verbose=500)\n",
        "\n",
        "    val_pred = model.predict(X_val)\n",
        "    mae = mean_absolute_error(y_val, val_pred)\n",
        "    val_scores.append(mae)\n",
        "    print(f\"✅ Fold {fold+1} MAE: {mae:.4f}\")\n",
        "\n",
        "    test_preds += model.predict(X_test) / kf.n_splits\n",
        "\n",
        "print(f\"\\n✅ 평균 MAE: {np.mean(val_scores):.4f}\")\n",
        "\n",
        "# ✅ 제출 파일 생성\n",
        "submission[\"Inhibition\"] = test_preds\n",
        "submission.to_csv(\"submission_catboost_optuna_shap.csv\", index=False)\n",
        "print(\"📁 제출 파일 저장 완료: submission_catboost_optuna_shap.csv\")\n"
      ],
      "metadata": {
        "colab": {
          "base_uri": "https://localhost:8080/"
        },
        "id": "A6pWONzl57IU",
        "outputId": "c2ad0dbc-6fd6-4c1b-98c0-e29ad1884081"
      },
      "execution_count": 1,
      "outputs": [
        {
          "output_type": "stream",
          "name": "stderr",
          "text": [
            "Default metric period is 5 because MAE is/are not implemented for GPU\n"
          ]
        },
        {
          "output_type": "stream",
          "name": "stdout",
          "text": [
            "0:\tlearn: 21.9165548\ttest: 21.6430794\tbest: 21.6430794 (0)\ttotal: 13.8ms\tremaining: 41.4s\n",
            "500:\tlearn: 20.4119045\ttest: 20.5617495\tbest: 20.5617495 (500)\ttotal: 2.52s\tremaining: 12.6s\n",
            "1000:\tlearn: 19.7925851\ttest: 20.3289857\tbest: 20.3289654 (999)\ttotal: 5s\tremaining: 9.98s\n",
            "1500:\tlearn: 19.4966009\ttest: 20.2683026\tbest: 20.2666769 (1483)\ttotal: 7.47s\tremaining: 7.46s\n",
            "bestTest = 20.26667691\n",
            "bestIteration = 1483\n",
            "Shrink model to first 1484 iterations.\n",
            "✅ Fold 1 MAE: 20.2667\n"
          ]
        },
        {
          "output_type": "stream",
          "name": "stderr",
          "text": [
            "Default metric period is 5 because MAE is/are not implemented for GPU\n"
          ]
        },
        {
          "output_type": "stream",
          "name": "stdout",
          "text": [
            "0:\tlearn: 22.1267861\ttest: 20.8013015\tbest: 20.8013015 (0)\ttotal: 6.56ms\tremaining: 19.7s\n",
            "500:\tlearn: 20.5497589\ttest: 19.9968233\tbest: 19.9968233 (500)\ttotal: 2.59s\tremaining: 12.9s\n",
            "1000:\tlearn: 19.9741215\ttest: 19.7978879\tbest: 19.7978879 (1000)\ttotal: 5.13s\tremaining: 10.2s\n",
            "bestTest = 19.76309931\n",
            "bestIteration = 1370\n",
            "Shrink model to first 1371 iterations.\n",
            "✅ Fold 2 MAE: 19.7631\n"
          ]
        },
        {
          "output_type": "stream",
          "name": "stderr",
          "text": [
            "Default metric period is 5 because MAE is/are not implemented for GPU\n"
          ]
        },
        {
          "output_type": "stream",
          "name": "stdout",
          "text": [
            "0:\tlearn: 21.7295655\ttest: 22.3849894\tbest: 22.3849894 (0)\ttotal: 6.21ms\tremaining: 18.6s\n",
            "500:\tlearn: 20.2364588\ttest: 21.3890817\tbest: 21.3890817 (500)\ttotal: 2.55s\tremaining: 12.7s\n",
            "1000:\tlearn: 19.5977594\ttest: 21.1483416\tbest: 21.1479492 (997)\ttotal: 5.04s\tremaining: 10.1s\n",
            "1500:\tlearn: 19.2540224\ttest: 21.1263718\tbest: 21.1262265 (1487)\ttotal: 7.57s\tremaining: 7.56s\n",
            "bestTest = 21.12403216\n",
            "bestIteration = 1572\n",
            "Shrink model to first 1573 iterations.\n",
            "✅ Fold 3 MAE: 21.1240\n"
          ]
        },
        {
          "output_type": "stream",
          "name": "stderr",
          "text": [
            "Default metric period is 5 because MAE is/are not implemented for GPU\n"
          ]
        },
        {
          "output_type": "stream",
          "name": "stdout",
          "text": [
            "0:\tlearn: 21.9242492\ttest: 21.6069249\tbest: 21.6069249 (0)\ttotal: 5.82ms\tremaining: 17.5s\n",
            "500:\tlearn: 20.5570951\ttest: 20.2752627\tbest: 20.2752627 (500)\ttotal: 2.49s\tremaining: 12.4s\n",
            "1000:\tlearn: 19.9735798\ttest: 19.8249366\tbest: 19.8248175 (999)\ttotal: 5.03s\tremaining: 10.1s\n",
            "1500:\tlearn: 19.6330347\ttest: 19.6516578\tbest: 19.6516578 (1500)\ttotal: 7.63s\tremaining: 7.62s\n",
            "2000:\tlearn: 19.3825395\ttest: 19.5714518\tbest: 19.5714518 (2000)\ttotal: 10.2s\tremaining: 5.08s\n",
            "2500:\tlearn: 19.1345899\ttest: 19.5484299\tbest: 19.5438058 (2425)\ttotal: 12.7s\tremaining: 2.54s\n",
            "bestTest = 19.5438058\n",
            "bestIteration = 2425\n",
            "Shrink model to first 2426 iterations.\n",
            "✅ Fold 4 MAE: 19.5438\n"
          ]
        },
        {
          "output_type": "stream",
          "name": "stderr",
          "text": [
            "Default metric period is 5 because MAE is/are not implemented for GPU\n"
          ]
        },
        {
          "output_type": "stream",
          "name": "stdout",
          "text": [
            "0:\tlearn: 21.5872938\ttest: 23.0017264\tbest: 23.0017264 (0)\ttotal: 6.2ms\tremaining: 18.6s\n",
            "500:\tlearn: 20.0452893\ttest: 22.0252918\tbest: 22.0252918 (500)\ttotal: 2.62s\tremaining: 13.1s\n",
            "1000:\tlearn: 19.3824698\ttest: 21.7624425\tbest: 21.7624425 (1000)\ttotal: 5.24s\tremaining: 10.5s\n",
            "1500:\tlearn: 18.9921381\ttest: 21.6640247\tbest: 21.6640247 (1500)\ttotal: 7.89s\tremaining: 7.88s\n",
            "2000:\tlearn: 18.7276356\ttest: 21.6095610\tbest: 21.6092762 (1999)\ttotal: 10.5s\tremaining: 5.25s\n",
            "2500:\tlearn: 18.5079708\ttest: 21.5620960\tbest: 21.5616833 (2496)\ttotal: 13.1s\tremaining: 2.62s\n",
            "bestTest = 21.55628604\n",
            "bestIteration = 2663\n",
            "Shrink model to first 2664 iterations.\n",
            "✅ Fold 5 MAE: 21.5563\n",
            "\n",
            "✅ 평균 MAE: 20.4508\n",
            "📁 제출 파일 저장 완료: submission_catboost_optuna_shap.csv\n"
          ]
        }
      ]
    }
  ]
}